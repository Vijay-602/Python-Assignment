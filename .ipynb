{
 "cells": [
  {
   "cell_type": "code",
   "execution_count": 1,
   "metadata": {},
   "outputs": [
    {
     "name": "stdout",
     "output_type": "stream",
     "text": [
      "Missing data in training dataset:\n",
      " ID                0\n",
      "Candidate         0\n",
      "Constituency ∇    0\n",
      "Party             0\n",
      "Criminal Case     0\n",
      "Total Assets      0\n",
      "Liabilities       0\n",
      "state             0\n",
      "Education         0\n",
      "dtype: int64\n",
      "\n",
      "Missing data in testing dataset:\n",
      " ID                0\n",
      "Candidate         0\n",
      "Constituency ∇    0\n",
      "Party             0\n",
      "Criminal Case     0\n",
      "Total Assets      0\n",
      "Liabilities       0\n",
      "state             0\n",
      "dtype: int64\n"
     ]
    }
   ],
   "source": [
    "import pandas as pd\n",
    "import numpy as np\n",
    "import re\n",
    "from sklearn.model_selection import GridSearchCV\n",
    "from sklearn.preprocessing import LabelEncoder, StandardScaler\n",
    "from sklearn.neighbors import KNeighborsClassifier\n",
    "from sklearn.metrics import make_scorer, f1_score\n",
    "\n",
    "# Load the datasets\n",
    "train_data = pd.read_csv('train.csv')\n",
    "test_data = pd.read_csv('test.csv')\n",
    "\n",
    "# Check for missing data in both datasets\n",
    "print(\"Missing data in training dataset:\\n\", train_data.isnull().sum())\n",
    "print(\"\\nMissing data in testing dataset:\\n\", test_data.isnull().sum())\n"
   ]
  },
  {
   "cell_type": "code",
   "execution_count": 2,
   "metadata": {},
   "outputs": [
    {
     "name": "stdout",
     "output_type": "stream",
     "text": [
      "Unique units in Total Assets: {'Crore', 'Thou', 'Lac'}\n",
      "Unique units in Liabilities: {'Crore', 'Thou', 'Lac', 'Hund'}\n"
     ]
    }
   ],
   "source": [
    "# Function to find unique monetary units in the dataset\n",
    "def find_unique_units(column):\n",
    "    unique_units = set()\n",
    "    for value in column:\n",
    "        if pd.isna(value):\n",
    "            continue\n",
    "        units = re.findall(r'[a-zA-Z]+', value)\n",
    "        if units:\n",
    "            unique_units.update(units)\n",
    "    return unique_units\n",
    "\n",
    "# Check unique units in 'Total Assets' and 'Liabilities'\n",
    "unique_units_assets = find_unique_units(train_data['Total Assets'])\n",
    "unique_units_liabilities = find_unique_units(train_data['Liabilities'])\n",
    "\n",
    "print(\"Unique units in Total Assets:\", unique_units_assets)\n",
    "print(\"Unique units in Liabilities:\", unique_units_liabilities)"
   ]
  },
  {
   "cell_type": "code",
   "execution_count": 13,
   "metadata": {},
   "outputs": [],
   "source": [
    "# Function to convert monetary values to numeric\n",
    "def convertTonumeric(money_str):\n",
    "    money_str = money_str.replace(',', '').replace('+', '')  # Remove commas and plus sign\n",
    "    num_match = re.search(r'\\d+(\\.\\d+)?', money_str)  # Search for the numeric value\n",
    "    if not num_match:\n",
    "        return 0  # Return 0 if no numeric part is found\n",
    "    value = float(num_match.group())  # Convert the numeric part to a float\n",
    "    if 'Thou' in money_str.lower():\n",
    "        value *= 0.0001  # Correct multiplier for 'Thousand'\n",
    "    elif 'lac' in money_str.lower():\n",
    "        value *= 0.01  # Correct multiplier for 'Lac'\n",
    "    elif 'Hund' in money_str.lower():\n",
    "        value *= 0.00001  # Correct multiplier for 'Hundred'\n",
    "    return value\n",
    "\n",
    "train_data['Total Assets'] = train_data['Total Assets'].apply(convertTonumeric)\n",
    "train_data['Liabilities'] = train_data['Liabilities'].apply(convertTonumeric)\n",
    "test_data['Total Assets'] = test_data['Total Assets'].apply(convertTonumeric)\n",
    "test_data['Liabilities'] = test_data['Liabilities'].apply(convertTonumeric)\n",
    "\n",
    "print(train_data[['Total Assets', 'Liabilities']].head())\n",
    "print(train_data[['Total Assets', 'Liabilities']].describe())\n"
   ]
  },
  {
   "cell_type": "code",
   "execution_count": 11,
   "metadata": {},
   "outputs": [
    {
     "name": "stdout",
     "output_type": "stream",
     "text": [
      "   Total Assets  Liabilities\n",
      "0      0.166535     0.002270\n",
      "1      0.000789     0.000000\n",
      "2      0.005525     0.000250\n",
      "3      0.007103     0.000272\n",
      "4      0.001579     0.000692\n",
      "       Total Assets  Liabilities\n",
      "count   2059.000000  2059.000000\n",
      "mean       0.009244     0.003623\n",
      "std        0.038885     0.024939\n",
      "min        0.000000     0.000000\n",
      "25%        0.000766     0.000011\n",
      "50%        0.002368     0.000227\n",
      "75%        0.006314     0.001135\n",
      "max        1.000000     1.000000\n"
     ]
    }
   ],
   "source": [
    "# Normalize 'Total Assets' and 'Liabilities'\n",
    "train_data['Total Assets'] /= train_data['Total Assets'].max()\n",
    "train_data['Liabilities'] /= train_data['Liabilities'].max()\n",
    "test_data['Total Assets'] /= test_data['Total Assets'].max()\n",
    "test_data['Liabilities'] /= test_data['Liabilities'].max()\n",
    "\n",
    "# Print some sample data to check the results\n",
    "print(train_data[['Total Assets', 'Liabilities']].head())\n",
    "print(train_data[['Total Assets', 'Liabilities']].describe())\n"
   ]
  },
  {
   "cell_type": "code",
   "execution_count": 14,
   "metadata": {},
   "outputs": [
    {
     "name": "stdout",
     "output_type": "stream",
     "text": [
      "Encoded sample data from training set:\n",
      "   Party  state  Education\n",
      "0      7     23          3\n",
      "1      4     13          1\n",
      "2      8     11          9\n",
      "3      4      3          9\n",
      "4      4     27          3\n",
      "\n",
      "Encoded sample data from testing set:\n",
      "   Party  state\n",
      "0      9     14\n",
      "1      2     27\n",
      "2     13     14\n",
      "3      2     27\n",
      "4     18     25\n"
     ]
    }
   ],
   "source": [
    "# Encode categorical variables\n",
    "label_encoders = {}\n",
    "for column in ['Party', 'state', 'Education']:\n",
    "    label_encoders[column] = LabelEncoder()\n",
    "    train_data[column] = label_encoders[column].fit_transform(train_data[column])\n",
    "    if column in test_data.columns:  # Check if the column exists in test_data\n",
    "        test_data[column] = label_encoders[column].transform(test_data[column])\n",
    "\n",
    "\n",
    "print(\"Encoded sample data from training set:\")\n",
    "print(train_data[['Party','state','Education']].head())\n",
    "print(\"\\nEncoded sample data from testing set:\")\n",
    "print(test_data[['Party','state']].head() if not test_data.empty else \"No test data available\")"
   ]
  },
  {
   "cell_type": "code",
   "execution_count": 15,
   "metadata": {},
   "outputs": [
    {
     "name": "stdout",
     "output_type": "stream",
     "text": [
      "Best number of neighbors: 23\n",
      "Best F1 Score from Grid Search: 0.21208166748744622\n"
     ]
    }
   ],
   "source": [
    "# Define features and target variable\n",
    "feature_columns = ['Party', 'Criminal Case', 'Total Assets', 'Liabilities', 'state']\n",
    "X = train_data[feature_columns]\n",
    "y = train_data['Education']\n",
    "\n",
    "# Scaling features\n",
    "scaler = StandardScaler()\n",
    "X_scaled = scaler.fit_transform(X)\n",
    "\n",
    "# Grid Search to find the optimal number of neighbors\n",
    "param_grid = {'n_neighbors': np.arange(1, 100)}  # You can change the range based on your dataset size and specific needs\n",
    "grid_search = GridSearchCV(KNeighborsClassifier(), param_grid, cv=5, scoring=make_scorer(f1_score, average='weighted'))\n",
    "grid_search.fit(X_scaled, y)\n",
    "\n",
    "best_k = grid_search.best_params_['n_neighbors']\n",
    "best_score = grid_search.best_score_\n",
    "print(f\"Best number of neighbors: {best_k}\")\n",
    "print(f\"Best F1 Score from Grid Search: {best_score}\")"
   ]
  },
  {
   "cell_type": "code",
   "execution_count": 16,
   "metadata": {},
   "outputs": [
    {
     "data": {
      "image/png": "[encoded data removed]",
      "text/plain": [
       "<Figure size 432x288 with 1 Axes>"
      ]
     },
     "metadata": {
      "needs_background": "light"
     },
     "output_type": "display_data"
    }
   ],
   "source": [
    "import matplotlib.pyplot as plt\n",
    "\n",
    "# Plot the validation curve for F1 score vs. number of neighbors\n",
    "plt.plot(grid_search.cv_results_['param_n_neighbors'].data.astype(int), grid_search.cv_results_['mean_test_score'], marker='o')\n",
    "plt.xlabel('Number of Neighbors (k)')\n",
    "plt.ylabel('F1 Score')\n",
    "plt.title('Validation Curve for kNN')\n",
    "plt.grid(True)\n",
    "plt.show()"
   ]
  },
  {
   "cell_type": "code",
   "execution_count": 17,
   "metadata": {},
   "outputs": [],
   "source": [
    "# Initialize and train K-Nearest Neighbors Classifier with the best number of neighbors found\n",
    "model = KNeighborsClassifier(n_neighbors=best_k)\n",
    "model.fit(X_scaled, y)\n",
    "\n",
    "# Prepare and scale the test data similarly\n",
    "test_data_transformed = scaler.transform(test_data[feature_columns])\n",
    "\n",
    "# Making predictions\n",
    "test_predictions = model.predict(test_data_transformed)\n",
    "\n",
    "# Converting predictions back to original labels\n",
    "test_predictions_labels = label_encoders['Education'].inverse_transform(test_predictions)\n",
    "\n",
    "# Preparing the dataframe for submission\n",
    "submission_df = pd.DataFrame({'ID': test_data['ID'], 'Predicted Education': test_predictions_labels})\n",
    "\n",
    "# Exporting to CSV\n",
    "submission_df.to_csv('predicted_education.csv', index=False)\n"
   ]
  },
  {
   "cell_type": "code",
   "execution_count": 19,
   "metadata": {},
   "outputs": [
    {
     "data": {
      "image/png": "[encoded data removed]",
      "text/plain": [
       "<Figure size 720x576 with 1 Axes>"
      ]
     },
     "metadata": {
      "needs_background": "light"
     },
     "output_type": "display_data"
    }
   ],
   "source": [
    "# Decoding the Party\n",
    "train_data['Party'] = label_encoders['Party'].inverse_transform(train_data['Party'])\n",
    "# Group data by 'Party' and sum 'Criminal Case' for each party\n",
    "party_crime = train_data.groupby('Party')['Criminal Case'].sum().sort_values(ascending=False)\n",
    "\n",
    "# Calculate percentage distribution\n",
    "party_crime_percent = (party_crime / party_crime.sum()) * 100\n",
    "\n",
    "# Plot\n",
    "plt.figure(figsize=(10, 8))\n",
    "party_crime_percent.head(10).plot(kind='bar')  # Adjust to show more or fewer parties\n",
    "plt.title('Top Parties by Percentage Distribution of Criminal Records')\n",
    "plt.xlabel('Party')\n",
    "plt.ylabel('Percentage of Criminal Records')\n",
    "plt.xticks(rotation=45)\n",
    "plt.show()\n"
   ]
  },
  {
   "cell_type": "code",
   "execution_count": 20,
   "metadata": {},
   "outputs": [
    {
     "data": {
      "image/png": "[encoded data removed]",
      "text/plain": [
       "<Figure size 720x576 with 1 Axes>"
      ]
     },
     "metadata": {
      "needs_background": "light"
     },
     "output_type": "display_data"
    }
   ],
   "source": [
    "# Group data by 'Party' and sum 'Total Assets' for each party\n",
    "party_wealth = train_data.groupby('Party')['Total Assets'].sum().sort_values(ascending=False)\n",
    "\n",
    "# Calculate percentage distribution\n",
    "party_wealth_percent = (party_wealth / party_wealth.sum()) * 100\n",
    "\n",
    "# Plot\n",
    "plt.figure(figsize=(10, 8))\n",
    "party_wealth_percent.head(10).plot(kind='bar', color='royalblue')  # Adjust to show more or fewer parties\n",
    "plt.title('Top Parties by Percentage Distribution of Total Assets')\n",
    "plt.xlabel('Party')\n",
    "plt.ylabel('Percentage of Total Assets')\n",
    "plt.xticks(rotation=45)\n",
    "plt.show()\n"
   ]
  }
 ],
 "metadata": {
  "kernelspec": {
   "display_name": "base",
   "language": "python",
   "name": "python3"
  },
  "language_info": {
   "codemirror_mode": {
    "name": "ipython",
    "version": 3
   },
   "file_extension": ".py",
   "mimetype": "text/x-python",
   "name": "python",
   "nbconvert_exporter": "python",
   "pygments_lexer": "ipython3",
   "version": "3.9.7"
  }
 },
 "nbformat": 4,
 "nbformat_minor": 2
}
